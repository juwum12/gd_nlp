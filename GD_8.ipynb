{
 "cells": [
  {
   "cell_type": "code",
   "execution_count": 1,
   "id": "55e0ffdd",
   "metadata": {},
   "outputs": [],
   "source": [
    "import numpy as np\n",
    "def read_text(file_name) :\n",
    "    file = file_path + file_name\n",
    "    with open(file, 'r', encoding = 'UTF-8') as f:\n",
    "        s = f.read().splitlines()\n",
    "    return s"
   ]
  },
  {
   "cell_type": "code",
   "execution_count": 2,
   "id": "1678aa15",
   "metadata": {},
   "outputs": [],
   "source": [
    "file_path= 'C:/users/juwon/practice_aiffel/gd_nlp/seq2seq/'\n",
    "\n",
    "enc_train_path = 'korean-english-park.train.ko'\n",
    "dec_train_path = 'korean-english-park.train.en'\n",
    "enc_test_path = 'korean-english-park.test.ko'\n",
    "dec_test_path = 'korean-english-park.test.en'"
   ]
  },
  {
   "cell_type": "code",
   "execution_count": 3,
   "id": "d8e4950b",
   "metadata": {},
   "outputs": [],
   "source": [
    "enc_train = read_text(enc_train_path)\n",
    "dec_train = read_text(dec_train_path)\n",
    "enc_test = read_text(enc_test_path)\n",
    "dec_test = read_text(dec_test_path)"
   ]
  },
  {
   "cell_type": "code",
   "execution_count": 4,
   "id": "e2e1b41a",
   "metadata": {},
   "outputs": [
    {
     "name": "stdout",
     "output_type": "stream",
     "text": [
      "94123\n",
      "94123\n",
      "2000\n",
      "2000\n"
     ]
    }
   ],
   "source": [
    "print(len(enc_train))\n",
    "print(len(dec_train))\n",
    "print(len(enc_test))\n",
    "print(len(dec_test))"
   ]
  },
  {
   "cell_type": "code",
   "execution_count": 5,
   "id": "af22165e",
   "metadata": {},
   "outputs": [
    {
     "name": "stdout",
     "output_type": "stream",
     "text": [
      "Korean  >> 미 중앙은행의 수장인 버냉키는 “수많은 금융시장과 연구기관들이 어두운 미국 경기전망 때문에 상당한 스트레스를 받고 있다”며 “이런 이유로 경제에 대한 신뢰 구축이 이뤄지지 않고 있다”고 말했다.\n",
      "English >> The nation's top central banker warned \"many financial markets and institutions remain under considerable stress, in part because the outlook for the economy, and thus for credit quality, remains uncertain.\n",
      "\n",
      "Korean  >> 이날 미 상원 금융위원회는 버냉키 의장으로부터 미국 경제 전망과 모기지 금융회사인 페니매와 프레디맥 부실화에 따른 은행의 위기에 대해서 들었다.\n",
      "English >> The Senate panel was meeting to hear from Bernanke about the economy and to consider the crisis at mortgage finance giants Fannie Mae and Freddie Mac, as well as growing fears about bank failures.\n",
      "\n",
      "Korean  >> 페니매와 프레디맥의 주가는 15일 미 재무부의 긴급지원 발표에도 불구하고 하락세를 이어갔다.\n",
      "English >> Shares of Fannie and Freddie on Tuesday continued the recent slide that has prompted the Treasury Department and Fed to step in and offer support.\n",
      "\n",
      "Korean  >> 페니매의 주가는 15일 하루에만 27% 하락했고 이달들어 64% 폭락했다.\n",
      "English >> Shares of Fannie (FNM, Fortune 500) plunged 27% on Tuesday, leaving them 64% lower this month.\n",
      "\n",
      "Korean  >> 프레디맥의 주가도 이날 26% 떨어졌으며 7월에 68% 급락했다.\n",
      "English >> Freddie (FRE, Fortune 500) shares tumbled 26%, leaving them down 68% in July.\n",
      "\n",
      "Korean  >> 이 모기지 금융회사 주식의 가치는 올해 초부터 80% 급락했다.\n",
      "English >> Both have lost more than 80% of their value since the start of the year.\n",
      "\n",
      "Korean  >> AC 밀란은 호나우디뉴가 16일 이탈리아에 도착, 메디컬 테스트를 거쳐 공식 계약할 예정이라고 밝혔다. 호나우디뉴의 계약기간은 2011년 6월30일.\n",
      "English >> The Italian club said Ronaldinho would arrive in Milan on Wednesday to get a medical exam and sign a contract through June 30, 2011.\n",
      "\n",
      "Korean  >> AC밀란은 이적료 3340만 달러(한화 337억원)를 바르셀로나에 지급했고 유럽축구연맹(UEFA) 챔피언스리그 진출시 추가로 630만 달러를 주기로 했다.\n",
      "English >> Barcelona said that AC Milan will pay $33.4 million for Ronaldinho and another $6.3 million if it clinches a place in next season's Champions League.\n",
      "\n",
      "Korean  >> 영국 프리미어리그의 맨체스터시티가 이보다 많은 5070만 달러의 이적료를 제시했으나 호나우디뉴의 마음을 사로잡지 못했다.\n",
      "English >> The transfer amount was considerably less than the $50.7 million Barcelona said Premier League Manchester City had offered.\n",
      "\n",
      "Korean  >> 과르디올라는 지난달 “그가 예전의 기량을 보여준다면 다시 생각해 볼 수 있다”고 주장했다.\n",
      "English >> \"(If) he can get back to being the player he was, perhaps we could have a rethink,\" Guardiola said last month.\n",
      "\n"
     ]
    }
   ],
   "source": [
    "import random\n",
    "a = random.randint(0,2000)\n",
    "for i in range(a,a+10) :\n",
    "    print('Korean  >>', enc_test[i])\n",
    "    print('English >>', dec_test[i])\n",
    "    print()"
   ]
  },
  {
   "cell_type": "code",
   "execution_count": 6,
   "id": "df920805",
   "metadata": {},
   "outputs": [],
   "source": [
    "ko_raw = enc_train + enc_test\n",
    "en_raw = dec_train + dec_test"
   ]
  },
  {
   "cell_type": "code",
   "execution_count": 7,
   "id": "753daed0",
   "metadata": {},
   "outputs": [],
   "source": [
    "sen_zip = set(zip(ko_raw, en_raw))\n",
    "cleaned_ko, cleaned_en = zip(*sen_zip)"
   ]
  },
  {
   "cell_type": "code",
   "execution_count": 8,
   "id": "cff9b536",
   "metadata": {},
   "outputs": [
    {
     "name": "stdout",
     "output_type": "stream",
     "text": [
      "80963 80963\n"
     ]
    }
   ],
   "source": [
    "print(len(cleaned_ko), len(cleaned_en))"
   ]
  },
  {
   "cell_type": "code",
   "execution_count": 9,
   "id": "48498292",
   "metadata": {},
   "outputs": [
    {
     "data": {
      "image/png": "[encoded data removed]",
      "text/plain": [
       "<Figure size 640x480 with 1 Axes>"
      ]
     },
     "metadata": {},
     "output_type": "display_data"
    }
   ],
   "source": [
    "import matplotlib.pyplot as plt\n",
    "len_sen = [len(sen) for sen in cleaned_ko]\n",
    "plt.hist(len_sen, bins=300)\n",
    "plt.show()"
   ]
  },
  {
   "cell_type": "code",
   "execution_count": 10,
   "id": "87803547",
   "metadata": {},
   "outputs": [
    {
     "name": "stdout",
     "output_type": "stream",
     "text": [
      "문장의 길이: 8\n",
      "한 번역:  도살장, 수라장\n",
      "영 번역:  The head of Iraqi forces in Falluja said they had found \"\"slaughterhouses\"\" where hostages had been held and killed, along with records of victims.\n",
      "문장의 길이: 6\n",
      "한 번역:  원문기사보기\n",
      "영 번역:  But it didn't work out that way.\n",
      "문장의 길이: 11\n",
      "한 번역:  그는 \"잘 모르겠다.\n",
      "영 번역:  All rights reserved.\n",
      "문장의 길이: 12\n",
      "한 번역:  원문 & 독해설명 인쇄\n",
      "영 번역:  The pipeline links Iraq's northern and southern oil fields.\n",
      "문장의 길이: 12\n",
      "한 번역:  그것은 진실이 아니다.\n",
      "영 번역:  This material may not be published.\n",
      "문장의 길이: 14\n",
      "한 번역:  후임자는 발표되지 않았다.\n",
      "영 번역:  No successors have been announced.\n",
      "문장의 길이: 14\n",
      "한 번역:  저장된 검색어가 없습니다.\n",
      "영 번역:  And oil is trading near $55 a barrel.\n",
      "문장의 길이: 12\n",
      "한 번역:  fraud 사기, 속임\n",
      "영 번역:  Lee won a landslide victory in the Dec.\n",
      "문장의 길이: 12\n",
      "한 번역:  원문 & 독해설명 인쇄\n",
      "영 번역:  The move follows the controversy over an incident of alleged indecent exposure that took place during a live music show aired on MBC last Saturday.\n",
      "문장의 길이: 14\n",
      "한 번역:  온몸으로 말하는 기상캐스터\n",
      "영 번역:  \"It changed the patient-physician relationship.\n",
      "문장의 길이: 9\n",
      "한 번역:  와인의 적정 온도\n",
      "영 번역:  Ideal temperature:\n",
      "문장의 길이: 10\n",
      "한 번역:  왕의 귀환”입니다.\n",
      "영 번역:  The Return of The King\n",
      "문장의 길이: 14\n",
      "한 번역:  성에 대해 쉽게 대화하라:\n",
      "영 번역:  Talk about it:\n",
      "문장의 길이: 6\n",
      "한 번역:  원문기사보기\n",
      "영 번역:  Chinese hopeful Liu will return for Berlin\n",
      "문장의 길이: 14\n",
      "한 번역:  온몸으로 말하는 기상캐스터\n",
      "영 번역:  \"She was born just a generation past slavery;\n",
      "문장의 길이: 4\n",
      "한 번역:  한자사전\n",
      "영 번역:  In 2003, the number reported was 540.\n",
      "문장의 길이: 14\n",
      "한 번역:  호주 측은 말하고 있습니다\n",
      "영 번역:  Peng is to be deported.\n",
      "문장의 길이: 10\n",
      "한 번역:  생후 24개월까지:\n",
      "영 번역:  During the first two years:\n",
      "문장의 길이: 4\n",
      "한 번역:  어휘 :\n",
      "영 번역:  The upper end of that range would put SG344 on the level of the Tunguska Meteorite, which flattened a wide swath of Siberian forest in 1908.\n",
      "문장의 길이: 12\n",
      "한 번역:  원문 & 독해설명 인쇄\n",
      "영 번역:  They declined to give further details.\n",
      "문장의 길이: 11\n",
      "한 번역:  \"사과할 것이 없다.\n",
      "영 번역:  \"There is nothing to apologize for.\n",
      "문장의 길이: 4\n",
      "한 번역:  사와야:\n",
      "영 번역:  SAWAYA:\n",
      "문장의 길이: 11\n",
      "한 번역:  hearing 청문회\n",
      "영 번역:  After taking a break from the elections, more congressional hearings this week on the nation's financial crisis:\n",
      "문장의 길이: 12\n",
      "한 번역:  aide 측근, 보좌관\n",
      "영 번역:  Top aide to President Elect Barack Obama is making the rounds of the Sunday talk shows.\n",
      "문장의 길이: 13\n",
      "한 번역:  게이츠 美 국방장관 유임\n",
      "영 번역:  Gates expected to stay on as Obama`s defense secretary\n",
      "문장의 길이: 12\n",
      "한 번역:  원문 & 독해설명 인쇄\n",
      "영 번역:  The AP's Brian Thomas has more:\n",
      "문장의 길이: 4\n",
      "한 번역:  한자사전\n",
      "영 번역:  Chained teen shows up at Calif.\n",
      "문장의 길이: 7\n",
      "한 번역:  Korea사전\n",
      "영 번역:  New York´s Philharmonic Orchestra will make an historic trip to North Korea in February.\n",
      "문장의 길이: 14\n",
      "한 번역:  저는 그렇게 생각합니다.”\n",
      "영 번역:  That's what I think.”\n",
      "문장의 길이: 12\n",
      "한 번역:  스트레스 완화에는 명상\n",
      "영 번역:  For stress reduction, just say ommm\n",
      "문장의 길이: 12\n",
      "한 번역:  원문 & 독해설명 인쇄\n",
      "영 번역:  The US will likely be keen for Seoul to keep the troops in place.\n",
      "문장의 길이: 5\n",
      "한 번역:  세부사항:\n",
      "영 번역:  Details:\n",
      "문장의 길이: 6\n",
      "한 번역:  증언, 고백\n",
      "영 번역:  A defiant Saddam Hussein and seven co-accused were in court.\n",
      "문장의 길이: 10\n",
      "한 번역:  당신 삶을 바꿔라.\n",
      "영 번역:  Change your life.\n",
      "문장의 길이: 12\n",
      "한 번역:  실종 여객기는 어디에?\n",
      "영 번역:  Where is the missing Indonesian plane?\n",
      "문장의 길이: 14\n",
      "한 번역:  온몸으로 말하는 기상캐스터\n",
      "영 번역:  But thinking of France as a nation, I must say I have rarely identified with its priorities.\"\n",
      "문장의 길이: 11\n",
      "한 번역:  원문기사 원문기사보기\n",
      "영 번역:  is 24 percent, the tutoring company says.\n",
      "문장의 길이: 12\n",
      "한 번역:  니나 알램은 초조했다.\n",
      "영 번역:  \"I was terrified on the train.\n",
      "문장의 길이: 14\n",
      "한 번역:  온몸으로 말하는 기상캐스터\n",
      "영 번역:  They may not know it, but the Mac is back.\"\n",
      "문장의 길이: 14\n",
      "한 번역:  저장된 검색어가 없습니다.\n",
      "영 번역:  the Dow is down 123 points.\n",
      "문장의 길이: 14\n",
      "한 번역:  온몸으로 말하는 기상캐스터\n",
      "영 번역:  I like sitting down with each picture.\n",
      "문장의 길이: 9\n",
      "한 번역:  내가 찾은 검색어\n",
      "영 번역:  The KMA said at 2 p.m.\n",
      "문장의 길이: 9\n",
      "한 번역:  내가 찾은 검색어\n",
      "영 번역:  And therefore I won´t commit beyond July.\n",
      "문장의 길이: 6\n",
      "한 번역:  22~25도\n",
      "영 번역:  72 to 78 degrees.\n",
      "문장의 길이: 14\n",
      "한 번역:  숙박비 신용카드 결제 가능\n",
      "영 번역:  Credit cards accepted: Amex, MC, Visa.\n",
      "문장의 길이: 5\n",
      "한 번역:  “나중에”\n",
      "영 번역:  Later!\n",
      "문장의 길이: 14\n",
      "한 번역:  흥정하는 상점도 다양하다.\n",
      "영 번역:  And where you haggle makes a difference.\n",
      "문장의 길이: 7\n",
      "한 번역:  사직서를 쓰다\n",
      "영 번역:  tender one's resignation :\n",
      "문장의 길이: 4\n",
      "한 번역:  어휘 :\n",
      "영 번역:  About 40 percent of the more than 5,600 participants said it was very likely, somewhat likely or somewhat unlikely that HIV could be transmitted by sharing a glass.\n",
      "문장의 길이: 12\n",
      "한 번역:  Newsweek 한글판\n",
      "영 번역:  Yet another scale Il Divo has mastered:\n"
     ]
    }
   ],
   "source": [
    "idx_list = []\n",
    "count = 0\n",
    "for i,length in enumerate(len_sen):\n",
    "    if length < 15 :\n",
    "        print('문장의 길이:',length)\n",
    "        print('한 번역: ', cleaned_ko[i])\n",
    "        print('영 번역: ', cleaned_en[i])\n",
    "        count +=1\n",
    "    if count == 50 : break"
   ]
  },
  {
   "cell_type": "code",
   "execution_count": 11,
   "id": "8d050f2f",
   "metadata": {},
   "outputs": [],
   "source": [
    "import re\n",
    "\n",
    "def preprocessing_ko(sentence):\n",
    "    sentence = re.sub(r'\\([^)]*\\)', r'', sentence) # 괄호안 문자 제거\n",
    "    sentence = re.sub(r'[^가-힣a-zA-Z0-9.,?!~\\'\\\"]', r' ', sentence)\n",
    "    sentence = re.sub(r'[\" \"]+', r' ', sentence)\n",
    "    \n",
    "    return sentence\n",
    "\n",
    "def preprocessing_en(sentence):\n",
    "    sentence = sentence.lower().strip()\n",
    "    sentence = re.sub(r'\\([^)]*\\)', r'', sentence) # 괄호안 문자 제거\n",
    "    sentence = re.sub(r'([.,?!])', r' \\1 ', sentence)\n",
    "    sentence = re.sub(r'[\" \"]+', r' ', sentence)\n",
    "    sentence = re.sub(r'[^a-zA-Z0-9.,?!~\\'\\\"]+', r' ', sentence)\n",
    "    sentence = sentence.strip()\n",
    "    \n",
    "    sentence = '<start> '+ sentence + ' <end>'\n",
    "    return sentence"
   ]
  },
  {
   "cell_type": "code",
   "execution_count": 12,
   "id": "7bd2eb83",
   "metadata": {},
   "outputs": [],
   "source": [
    "kor_corpus = []\n",
    "eng_corpus = []\n",
    "for idx, sentence in enumerate(cleaned_ko):\n",
    "    if len(sentence) >=15 :\n",
    "        kor_corpus.append(preprocessing_ko(sentence))\n",
    "        eng_corpus.append(preprocessing_en(cleaned_en[idx]))"
   ]
  },
  {
   "cell_type": "code",
   "execution_count": 13,
   "id": "94a3bcbf",
   "metadata": {},
   "outputs": [],
   "source": [
    "from eunjeon import Mecab\n",
    "mecab =Mecab()\n",
    "\n",
    "encoder_input = []\n",
    "decoder_input = []\n",
    "\n",
    "for idx, sentence in enumerate(kor_corpus) :\n",
    "    enc_sen = mecab.morphs(sentence)\n",
    "    dec_sen = eng_corpus[idx].split()\n",
    "    if (len(enc_sen) <= 40) & (len(dec_sen)<=40):\n",
    "        encoder_input.append(enc_sen)\n",
    "        decoder_input.append(dec_sen)"
   ]
  },
  {
   "cell_type": "code",
   "execution_count": 14,
   "id": "f6565bf9",
   "metadata": {},
   "outputs": [],
   "source": [
    "encoder_input = random.sample(encoder_input,15000)\n",
    "decoder_input = random.sample(decoder_input,15000)"
   ]
  },
  {
   "cell_type": "code",
   "execution_count": 15,
   "id": "d29eaa04",
   "metadata": {},
   "outputs": [
    {
     "name": "stdout",
     "output_type": "stream",
     "text": [
      "15000\n",
      "15000\n"
     ]
    }
   ],
   "source": [
    "print(len(encoder_input))\n",
    "print(len(decoder_input))"
   ]
  },
  {
   "cell_type": "code",
   "execution_count": 16,
   "id": "806bdec7",
   "metadata": {},
   "outputs": [],
   "source": [
    "import tensorflow as tf\n",
    "\n",
    "def tokenize(corpus):\n",
    "    tokenizer = tf.keras.preprocessing.text.Tokenizer(filters = '')\n",
    "    tokenizer.fit_on_texts(corpus)\n",
    "    \n",
    "    tensor = tokenizer.texts_to_sequences(corpus)\n",
    "    tensor = tf.keras.preprocessing.sequence.pad_sequences(tensor, padding = 'post')\n",
    "    \n",
    "    return tensor, tokenizer"
   ]
  },
  {
   "cell_type": "code",
   "execution_count": 17,
   "id": "023900f4",
   "metadata": {},
   "outputs": [],
   "source": [
    "encoder_input, ko_tokenizer = tokenize(encoder_input)\n",
    "decoder_input, en_tokenizer = tokenize(decoder_input)"
   ]
  },
  {
   "cell_type": "code",
   "execution_count": 18,
   "id": "75eb1246",
   "metadata": {},
   "outputs": [],
   "source": [
    "ko_word_index = ko_tokenizer.word_index\n",
    "en_word_index = en_tokenizer.word_index"
   ]
  },
  {
   "cell_type": "code",
   "execution_count": 19,
   "id": "3721c95f",
   "metadata": {},
   "outputs": [
    {
     "name": "stdout",
     "output_type": "stream",
     "text": [
      "23956\n",
      "23254\n"
     ]
    }
   ],
   "source": [
    "print(len(ko_word_index))\n",
    "print(len(en_word_index))"
   ]
  },
  {
   "cell_type": "code",
   "execution_count": 20,
   "id": "69b7cff9",
   "metadata": {},
   "outputs": [],
   "source": [
    "en_index_word = {idx:word for word,idx in en_word_index.items()}"
   ]
  },
  {
   "cell_type": "code",
   "execution_count": 21,
   "id": "631607dd",
   "metadata": {},
   "outputs": [],
   "source": [
    "from sklearn.model_selection import train_test_split\n",
    "\n",
    "enc_train, enc_val, dec_train, dec_val = train_test_split(encoder_input, \n",
    "                                                          decoder_input, \n",
    "                                                          test_size= 0.2)"
   ]
  },
  {
   "cell_type": "markdown",
   "id": "ed684fef",
   "metadata": {},
   "source": [
    "## 모델 설계"
   ]
  },
  {
   "cell_type": "code",
   "execution_count": 22,
   "id": "e3b21cb6",
   "metadata": {},
   "outputs": [],
   "source": [
    "class BahdanauAttention(tf.keras.layers.Layer):\n",
    "    def __init__(self, units):\n",
    "        super(BahdanauAttention, self).__init__()\n",
    "        self.w_dec = tf.keras.layers.Dense(units)\n",
    "        self.w_enc = tf.keras.layers.Dense(units)\n",
    "        self.w_com = tf.keras.layers.Dense(1)\n",
    "    \n",
    "    def call(self, h_enc, h_dec):\n",
    "        h_enc = self.w_enc(h_enc)\n",
    "        h_dec = tf.expand_dims(h_dec, 1)\n",
    "        h_dec = self.w_dec(h_dec)\n",
    "\n",
    "        score = self.w_com(tf.nn.tanh(h_dec + h_enc))\n",
    "        \n",
    "        attn = tf.nn.softmax(score, axis=1)\n",
    "\n",
    "        context_vec = attn * h_enc\n",
    "        context_vec = tf.reduce_sum(context_vec, axis=1)\n",
    "\n",
    "        return context_vec, attn"
   ]
  },
  {
   "cell_type": "code",
   "execution_count": 23,
   "id": "8d58e840",
   "metadata": {},
   "outputs": [],
   "source": [
    "class Encoder(tf.keras.Model):\n",
    "    def __init__(self, vocab_size, embedding_dim, enc_units):\n",
    "        super(Encoder, self).__init__()\n",
    "        self.enc_units = enc_units\n",
    "        self.embedding = tf.keras.layers.Embedding(vocab_size, embedding_dim)\n",
    "        self.gru1 = tf.keras.layers.GRU(enc_units, return_sequences= True, dropout=0.3)\n",
    "        self.gru2 = tf.keras.layers.GRU(enc_units, return_sequences= True, dropout=0.3)\n",
    "\n",
    "    def call(self, x):\n",
    "        out = self.embedding(x)\n",
    "        out = self.gru1(out)\n",
    "        out = self.gru2(out)\n",
    "        return out"
   ]
  },
  {
   "cell_type": "code",
   "execution_count": 24,
   "id": "f63ffb6d",
   "metadata": {},
   "outputs": [],
   "source": [
    "class Decoder(tf.keras.Model):\n",
    "    def __init__(self, vocab_size, embedding_dim, dec_units):\n",
    "        super(Decoder, self).__init__()\n",
    "        self.dec_units = dec_units\n",
    "        self.embedding = tf.keras.layers.Embedding(vocab_size, embedding_dim)\n",
    "        self.gru1 = tf.keras.layers.GRU(dec_units, return_sequences=True, dropout=0.3)\n",
    "        self.gru2 = tf.keras.layers.GRU(dec_units, return_sequences=True, return_state= True, dropout=0.3)\n",
    "\n",
    "        self.fc = tf.keras.layers.Dense(vocab_size)\n",
    "        self.attention = BahdanauAttention(self.dec_units)\n",
    "\n",
    "    def call(self, x, h_dec, enc_out):\n",
    "        context_vec, attn = self.attention(enc_out, h_dec)\n",
    "        out = self.embedding(x)\n",
    "        out = tf.concat([tf.expand_dims(context_vec,1), out], axis = -1)\n",
    "        out = self.gru1(out)\n",
    "        out, h_dec = self.gru2(out)\n",
    "        out = tf.reshape(out,(-1, out.shape[2]))\n",
    "        out = self.fc(out)\n",
    "\n",
    "        return out, h_dec, attn"
   ]
  },
  {
   "cell_type": "markdown",
   "id": "0a99cdeb",
   "metadata": {},
   "source": [
    "## Optimizer & Loss"
   ]
  },
  {
   "cell_type": "code",
   "execution_count": 25,
   "id": "6a5f61c2",
   "metadata": {},
   "outputs": [],
   "source": [
    "optimizer = tf.keras.optimizers.Adam(learning_rate=0.005)\n",
    "loss_object = tf.keras.losses.SparseCategoricalCrossentropy(\n",
    "    from_logits=True, reduction='none')\n",
    "\n",
    "def loss_function(real, pred):\n",
    "    mask = tf.math.logical_not(tf.math.equal(real, 0))\n",
    "    loss = loss_object(real, pred)\n",
    "    \n",
    "    mask = tf.cast(mask, dtype=loss.dtype)\n",
    "    loss *= mask\n",
    "    \n",
    "    return tf.reduce_mean(loss)"
   ]
  },
  {
   "cell_type": "markdown",
   "id": "8a723c0c",
   "metadata": {},
   "source": [
    "## train_step 구현"
   ]
  },
  {
   "cell_type": "code",
   "execution_count": 26,
   "id": "89822290",
   "metadata": {},
   "outputs": [],
   "source": [
    "@tf.function\n",
    "def train_step(src, tgt, encoder, decoder, optimizer, dec_tok):\n",
    "    bsz = src.shape[0]\n",
    "    loss = 0\n",
    "\n",
    "    with tf.GradientTape() as tape:\n",
    "        enc_out = encoder(src)\n",
    "        h_dec = enc_out[:, -1]\n",
    "        \n",
    "        dec_src = tf.expand_dims([dec_tok.word_index['<start>']] * bsz, 1)\n",
    "\n",
    "        for t in range(1, tgt.shape[1]):\n",
    "            pred, h_dec, _ = decoder(dec_src, h_dec, enc_out)\n",
    "            loss += loss_function(tgt[:, t], pred)\n",
    "            dec_src = tf.expand_dims(tgt[:, t], 1)\n",
    "    batch_loss = (loss / int(tgt.shape[1]))\n",
    "\n",
    "    variables = encoder.trainable_variables + decoder.trainable_variables\n",
    "    gradients = tape.gradient(loss, variables)\n",
    "    optimizer.apply_gradients(zip(gradients, variables))\n",
    "    \n",
    "    return batch_loss"
   ]
  },
  {
   "cell_type": "code",
   "execution_count": 27,
   "id": "8423a008",
   "metadata": {},
   "outputs": [],
   "source": [
    "@tf.function\n",
    "def eval_step(src, tgt, encoder, decoder,dec_tok):\n",
    "    bsz = src.shape[0]\n",
    "    loss = 0\n",
    "\n",
    "    with tf.GradientTape() as tape:\n",
    "        enc_out = encoder(src)\n",
    "        h_dec = enc_out[:, -1]\n",
    "        \n",
    "        dec_src = tf.expand_dims([dec_tok.word_index['<start>']] * bsz,1)\n",
    "\n",
    "        for t in range(1, tgt.shape[1]):\n",
    "            pred, h_dec, _ = decoder(dec_src, h_dec, enc_out)\n",
    "            loss += loss_function(tgt[:, t], pred)\n",
    "            dec_src = tf.expand_dims(tgt[:,t], 1)\n",
    "    batch_loss = (loss / int(tgt.shape[1]))\n",
    "\n",
    "    return batch_loss"
   ]
  },
  {
   "cell_type": "code",
   "execution_count": 28,
   "id": "e5eba4e2",
   "metadata": {},
   "outputs": [
    {
     "name": "stderr",
     "output_type": "stream",
     "text": [
      "Epoch  1: 100%|███████████████████████████████████████████████████████████| 94/94 [03:46<00:00,  2.41s/it, Loss 4.1878]\n",
      "Test Epoch  1: 100%|████████████████████████████████████████████████████| 24/24 [01:16<00:00,  3.21s/it, Test Loss nan]\n",
      "Epoch  2: 100%|███████████████████████████████████████████████████████████| 94/94 [00:20<00:00,  4.48it/s, Loss 3.9504]\n",
      "Test Epoch  2: 100%|████████████████████████████████████████████████████| 24/24 [00:02<00:00, 10.27it/s, Test Loss nan]\n",
      "Epoch  3: 100%|███████████████████████████████████████████████████████████| 94/94 [00:20<00:00,  4.57it/s, Loss 3.9336]\n",
      "Test Epoch  3: 100%|████████████████████████████████████████████████████| 24/24 [00:02<00:00, 10.29it/s, Test Loss nan]\n",
      "Epoch  4: 100%|███████████████████████████████████████████████████████████| 94/94 [00:20<00:00,  4.67it/s, Loss 3.9237]\n",
      "Test Epoch  4: 100%|████████████████████████████████████████████████████| 24/24 [00:02<00:00,  9.53it/s, Test Loss nan]\n",
      "Epoch  5: 100%|███████████████████████████████████████████████████████████| 94/94 [00:20<00:00,  4.56it/s, Loss 3.9221]\n",
      "Test Epoch  5: 100%|████████████████████████████████████████████████████| 24/24 [00:02<00:00,  9.56it/s, Test Loss nan]\n",
      "Epoch  6: 100%|███████████████████████████████████████████████████████████| 94/94 [00:20<00:00,  4.60it/s, Loss 3.9215]\n",
      "Test Epoch  6: 100%|████████████████████████████████████████████████████| 24/24 [00:02<00:00,  9.46it/s, Test Loss nan]\n",
      "Epoch  7: 100%|███████████████████████████████████████████████████████████| 94/94 [00:21<00:00,  4.39it/s, Loss 3.9232]\n",
      "Test Epoch  7: 100%|████████████████████████████████████████████████████| 24/24 [00:02<00:00,  9.65it/s, Test Loss nan]\n",
      "Epoch  8: 100%|███████████████████████████████████████████████████████████| 94/94 [00:21<00:00,  4.37it/s, Loss 3.9179]\n",
      "Test Epoch  8: 100%|████████████████████████████████████████████████████| 24/24 [00:02<00:00,  9.37it/s, Test Loss nan]\n",
      "Epoch  9: 100%|███████████████████████████████████████████████████████████| 94/94 [00:21<00:00,  4.43it/s, Loss 3.9147]\n",
      "Test Epoch  9: 100%|████████████████████████████████████████████████████| 24/24 [00:02<00:00,  9.74it/s, Test Loss nan]\n",
      "Epoch 10: 100%|███████████████████████████████████████████████████████████| 94/94 [00:20<00:00,  4.50it/s, Loss 3.9133]\n",
      "Test Epoch 10: 100%|████████████████████████████████████████████████████| 24/24 [00:02<00:00,  9.93it/s, Test Loss nan]\n",
      "Epoch 11: 100%|███████████████████████████████████████████████████████████| 94/94 [00:21<00:00,  4.47it/s, Loss 3.9101]\n",
      "Test Epoch 11: 100%|████████████████████████████████████████████████████| 24/24 [00:02<00:00,  9.73it/s, Test Loss nan]\n",
      "Epoch 12: 100%|███████████████████████████████████████████████████████████| 94/94 [00:21<00:00,  4.46it/s, Loss 3.9085]\n",
      "Test Epoch 12: 100%|████████████████████████████████████████████████████| 24/24 [00:02<00:00,  9.58it/s, Test Loss nan]\n",
      "Epoch 13: 100%|███████████████████████████████████████████████████████████| 94/94 [00:20<00:00,  4.48it/s, Loss 3.9077]\n",
      "Test Epoch 13: 100%|████████████████████████████████████████████████████| 24/24 [00:02<00:00,  9.47it/s, Test Loss nan]\n",
      "Epoch 14: 100%|███████████████████████████████████████████████████████████| 94/94 [00:21<00:00,  4.46it/s, Loss 3.9065]\n",
      "Test Epoch 14: 100%|████████████████████████████████████████████████████| 24/24 [00:02<00:00, 10.00it/s, Test Loss nan]\n",
      "Epoch 15: 100%|███████████████████████████████████████████████████████████| 94/94 [00:20<00:00,  4.52it/s, Loss 3.9053]\n",
      "Test Epoch 15: 100%|████████████████████████████████████████████████████| 24/24 [00:02<00:00,  9.60it/s, Test Loss nan]\n",
      "Epoch 16: 100%|███████████████████████████████████████████████████████████| 94/94 [00:20<00:00,  4.50it/s, Loss 3.9046]\n",
      "Test Epoch 16: 100%|████████████████████████████████████████████████████| 24/24 [00:02<00:00,  9.74it/s, Test Loss nan]\n",
      "Epoch 17: 100%|███████████████████████████████████████████████████████████| 94/94 [00:21<00:00,  4.46it/s, Loss 3.9041]\n",
      "Test Epoch 17: 100%|████████████████████████████████████████████████████| 24/24 [00:02<00:00,  9.68it/s, Test Loss nan]\n",
      "Epoch 18: 100%|███████████████████████████████████████████████████████████| 94/94 [00:20<00:00,  4.49it/s, Loss 3.9028]\n",
      "Test Epoch 18: 100%|████████████████████████████████████████████████████| 24/24 [00:02<00:00,  9.78it/s, Test Loss nan]\n",
      "Epoch 19: 100%|███████████████████████████████████████████████████████████| 94/94 [00:20<00:00,  4.49it/s, Loss 3.9044]\n",
      "Test Epoch 19: 100%|████████████████████████████████████████████████████| 24/24 [00:02<00:00,  9.69it/s, Test Loss nan]\n",
      "Epoch 20: 100%|███████████████████████████████████████████████████████████| 94/94 [00:20<00:00,  4.48it/s, Loss 3.9036]\n",
      "Test Epoch 20: 100%|████████████████████████████████████████████████████| 24/24 [00:02<00:00,  9.80it/s, Test Loss nan]\n"
     ]
    }
   ],
   "source": [
    "\n",
    "from tqdm import tqdm\n",
    "import random\n",
    "\n",
    "EPOCHS = 20\n",
    "BATCH_SIZE = 128\n",
    "units = 128\n",
    "embedding_dim = 128\n",
    "SRC_VOCAB_SIZE = len(ko_word_index)\n",
    "TGT_VOCAB_SIZE = len(en_word_index)\n",
    "\n",
    "val_loss = []\n",
    "encoder = Encoder(SRC_VOCAB_SIZE, embedding_dim, units)\n",
    "decoder = Decoder(TGT_VOCAB_SIZE, embedding_dim, units)\n",
    "\n",
    "for epoch in range(EPOCHS):\n",
    "    total_loss = 0\n",
    "    idx_list = list(range(0, enc_train.shape[0], BATCH_SIZE))\n",
    "    random.shuffle(idx_list)\n",
    "    t= tqdm(idx_list)\n",
    "\n",
    "    for batch, idx in enumerate(t):\n",
    "        batch_loss = train_step(\n",
    "            enc_train[idx:idx+BATCH_SIZE], \n",
    "            dec_train[idx:idx+BATCH_SIZE],\n",
    "            encoder,\n",
    "            decoder,\n",
    "            optimizer,\n",
    "            en_tokenizer) \n",
    "        total_loss += batch_loss\n",
    "        t.set_description_str('Epoch %2d' % (epoch+1))\n",
    "        t.set_postfix_str('Loss %.4f' % (total_loss.numpy() / (batch+1)))\n",
    "        \n",
    "    test_loss = 0 \n",
    "    idx_list = list(range(0,enc_val.shape[0], BATCH_SIZE))\n",
    "    random.shuffle(idx_list)\n",
    "    t = tqdm(idx_list)\n",
    "    \n",
    "    for test_batch, idx in enumerate(t):\n",
    "        test_batch_loss = eval_step(\n",
    "            enc_val[idx: idx+BATCH_SIZE],\n",
    "            dec_val[idx: idx+BATCH_SIZE],\n",
    "            encoder,\n",
    "            decoder,\n",
    "            en_tokenizer)\n",
    "        test_loss += test_batch_loss\n",
    "        val_loss.append(test_loss.numpy() / (test_batch+1))\n",
    "\n",
    "        t.set_description_str('Test Epoch %2d' % (epoch+1))\n",
    "        t.set_postfix_str('Test Loss %.4f' % (test_loss.numpy() / (test_batch+1)))"
   ]
  },
  {
   "cell_type": "code",
   "execution_count": 29,
   "id": "a4f19737",
   "metadata": {},
   "outputs": [
    {
     "data": {
      "image/png": "[encoded data removed]",
      "text/plain": [
       "<Figure size 640x480 with 1 Axes>"
      ]
     },
     "metadata": {},
     "output_type": "display_data"
    }
   ],
   "source": [
    "import matplotlib.pyplot as plt\n",
    "plt.plot(val_loss)\n",
    "plt.show()"
   ]
  },
  {
   "cell_type": "code",
   "execution_count": 30,
   "id": "b67af71e",
   "metadata": {},
   "outputs": [],
   "source": [
    "def decode_sentence(sentence):\n",
    "    sentence = preprocessing_ko(sentence)\n",
    "    sentence = [ko_word_index[a] for a in mecab.morphs(sentence)]\n",
    "    sentence = tf.keras.preprocessing.sequence.pad_sequences([sentence], padding='post', maxlen=40)\n",
    "    \n",
    "    enc_out = encoder(sentence)\n",
    "    h_dec = enc_out[:, -1]\n",
    "    dec_src = tf.expand_dims([en_word_index['<start>']],1)\n",
    "    \n",
    "    decoded_sentence = ''\n",
    "    for i in range(dec_train.shape[-1]):\n",
    "        pred, h_dec, _ = decoder(dec_src, h_dec, enc_out)\n",
    "        pred_token_index = tf.argmax(tf.math.softmax(pred, axis =-1)[0]).numpy()\n",
    "        if (pred_token_index) != 0 :\n",
    "        \n",
    "            decoded_sentence += en_index_word[pred_token_index] + ' '\n",
    "        if (pred_token_index == en_word_index['<end>']) :\n",
    "            \n",
    "            return decoded_sentence\n",
    "        \n",
    "        dec_src = tf.expand_dims([pred_token_index],0)\n",
    "        \n",
    "        return decoded_sentence\n",
    "        "
   ]
  },
  {
   "cell_type": "code",
   "execution_count": 31,
   "id": "6f347edd",
   "metadata": {},
   "outputs": [
    {
     "name": "stdout",
     "output_type": "stream",
     "text": [
      "the \n",
      "the \n",
      "the \n"
     ]
    }
   ],
   "source": [
    "print(decode_sentence('오바마는 말했다.'))\n",
    "print(decode_sentence('사상자가 발생했습니다.'))\n",
    "print(decode_sentence('혼자 해결은 역시 어렵습니다'))"
   ]
  },
  {
   "cell_type": "markdown",
   "id": "8cf50e19",
   "metadata": {},
   "source": [
    "gpu메모리가 부족하여 모델을 복잡하게 만들 수 없었다.\n",
    "train_loss와 val_loss가 nan값이 나와서 검색을 해보아도 나에게 맞는 이유는 없었다.\n",
    "시간이 된다면 좀 더 성능을 높일 수 있는 방법을 찾아보아야 겠다."
   ]
  },
  {
   "cell_type": "code",
   "execution_count": null,
   "id": "65361638",
   "metadata": {},
   "outputs": [],
   "source": []
  }
 ],
 "metadata": {
  "kernelspec": {
   "display_name": "Python 3 (ipykernel)",
   "language": "python",
   "name": "python3"
  },
  "language_info": {
   "codemirror_mode": {
    "name": "ipython",
    "version": 3
   },
   "file_extension": ".py",
   "mimetype": "text/x-python",
   "name": "python",
   "nbconvert_exporter": "python",
   "pygments_lexer": "ipython3",
   "version": "3.9.15"
  }
 },
 "nbformat": 4,
 "nbformat_minor": 5
}
